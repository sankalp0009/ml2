{
  "nbformat": 4,
  "nbformat_minor": 0,
  "metadata": {
    "colab": {
      "provenance": []
    },
    "kernelspec": {
      "name": "python3",
      "display_name": "Python 3"
    },
    "language_info": {
      "name": "python"
    }
  },
  "cells": [
    {
      "cell_type": "code",
      "execution_count": null,
      "metadata": {
        "id": "aesCwkJlX2qS"
      },
      "outputs": [],
      "source": [
        "import pandas as pd \n",
        "from datetime import datetime\n",
        "import numpy as np \n",
        "from sklearn.linear_model import LinearRegression\n",
        "import matplotlib.pyplot as plt\n"
      ]
    },
    {
      "cell_type": "code",
      "source": [
        "SPY_data = pd.read_csv(\"SPY_regression.csv\")\n",
        " \n",
        "# Change the Date column from object to datetime object \n",
        "SPY_data[\"Date\"] = pd.to_datetime(SPY_data[\"Date\"])\n",
        " \n",
        "# Preview the data\n",
        "SPY_data.head(10)\n"
      ],
      "metadata": {
        "colab": {
          "base_uri": "https://localhost:8080/",
          "height": 601
        },
        "id": "bbJb3A2jab0_",
        "outputId": "cd649600-ee59-47cb-a315-e434e49fb2a6"
      },
      "execution_count": null,
      "outputs": [
        {
          "output_type": "execute_result",
          "data": {
            "text/plain": [
              "   Srno       Date         Open         High          Low        Close  \\\n",
              "0     0 2015-07-12  2090.419922  2090.419922  2066.780029  2077.070068   \n",
              "1     1 2015-04-12  2051.239990  2093.840088  2051.239990  2091.689941   \n",
              "2     2 2015-03-12  2080.709961  2085.000000  2042.349976  2049.620117   \n",
              "3     3 2015-02-12  2101.709961  2104.270020  2077.110107  2079.510010   \n",
              "4     4 2015-01-12  2082.929932  2103.370117  2082.929932  2102.629883   \n",
              "5     5 2015-11-30  2090.949951  2093.810059  2080.409912  2080.409912   \n",
              "6     6 2015-11-27  2088.820068  2093.290039  2084.129883  2090.110107   \n",
              "7     7 2015-11-25  2089.300049  2093.000000  2086.300049  2088.870117   \n",
              "8     8 2015-11-24  2084.419922  2094.120117  2070.290039  2089.139893   \n",
              "9     9 2015-11-23  2089.409912  2095.610107  2081.389893  2086.590088   \n",
              "\n",
              "       Volume    Adj Close  \n",
              "0  4043820000  2077.070068  \n",
              "1  4214910000  2091.689941  \n",
              "2  4306490000  2049.620117  \n",
              "3  3950640000  2079.510010  \n",
              "4  3712120000  2102.629883  \n",
              "5  4245030000  2080.409912  \n",
              "6  1466840000  2090.110107  \n",
              "7  2852940000  2088.870117  \n",
              "8  3884930000  2089.139893  \n",
              "9  3587980000  2086.590088  "
            ],
            "text/html": [
              "\n",
              "  <div id=\"df-3bdb9fdc-2158-409f-ab59-681da56318f4\">\n",
              "    <div class=\"colab-df-container\">\n",
              "      <div>\n",
              "<style scoped>\n",
              "    .dataframe tbody tr th:only-of-type {\n",
              "        vertical-align: middle;\n",
              "    }\n",
              "\n",
              "    .dataframe tbody tr th {\n",
              "        vertical-align: top;\n",
              "    }\n",
              "\n",
              "    .dataframe thead th {\n",
              "        text-align: right;\n",
              "    }\n",
              "</style>\n",
              "<table border=\"1\" class=\"dataframe\">\n",
              "  <thead>\n",
              "    <tr style=\"text-align: right;\">\n",
              "      <th></th>\n",
              "      <th>Srno</th>\n",
              "      <th>Date</th>\n",
              "      <th>Open</th>\n",
              "      <th>High</th>\n",
              "      <th>Low</th>\n",
              "      <th>Close</th>\n",
              "      <th>Volume</th>\n",
              "      <th>Adj Close</th>\n",
              "    </tr>\n",
              "  </thead>\n",
              "  <tbody>\n",
              "    <tr>\n",
              "      <th>0</th>\n",
              "      <td>0</td>\n",
              "      <td>2015-07-12</td>\n",
              "      <td>2090.419922</td>\n",
              "      <td>2090.419922</td>\n",
              "      <td>2066.780029</td>\n",
              "      <td>2077.070068</td>\n",
              "      <td>4043820000</td>\n",
              "      <td>2077.070068</td>\n",
              "    </tr>\n",
              "    <tr>\n",
              "      <th>1</th>\n",
              "      <td>1</td>\n",
              "      <td>2015-04-12</td>\n",
              "      <td>2051.239990</td>\n",
              "      <td>2093.840088</td>\n",
              "      <td>2051.239990</td>\n",
              "      <td>2091.689941</td>\n",
              "      <td>4214910000</td>\n",
              "      <td>2091.689941</td>\n",
              "    </tr>\n",
              "    <tr>\n",
              "      <th>2</th>\n",
              "      <td>2</td>\n",
              "      <td>2015-03-12</td>\n",
              "      <td>2080.709961</td>\n",
              "      <td>2085.000000</td>\n",
              "      <td>2042.349976</td>\n",
              "      <td>2049.620117</td>\n",
              "      <td>4306490000</td>\n",
              "      <td>2049.620117</td>\n",
              "    </tr>\n",
              "    <tr>\n",
              "      <th>3</th>\n",
              "      <td>3</td>\n",
              "      <td>2015-02-12</td>\n",
              "      <td>2101.709961</td>\n",
              "      <td>2104.270020</td>\n",
              "      <td>2077.110107</td>\n",
              "      <td>2079.510010</td>\n",
              "      <td>3950640000</td>\n",
              "      <td>2079.510010</td>\n",
              "    </tr>\n",
              "    <tr>\n",
              "      <th>4</th>\n",
              "      <td>4</td>\n",
              "      <td>2015-01-12</td>\n",
              "      <td>2082.929932</td>\n",
              "      <td>2103.370117</td>\n",
              "      <td>2082.929932</td>\n",
              "      <td>2102.629883</td>\n",
              "      <td>3712120000</td>\n",
              "      <td>2102.629883</td>\n",
              "    </tr>\n",
              "    <tr>\n",
              "      <th>5</th>\n",
              "      <td>5</td>\n",
              "      <td>2015-11-30</td>\n",
              "      <td>2090.949951</td>\n",
              "      <td>2093.810059</td>\n",
              "      <td>2080.409912</td>\n",
              "      <td>2080.409912</td>\n",
              "      <td>4245030000</td>\n",
              "      <td>2080.409912</td>\n",
              "    </tr>\n",
              "    <tr>\n",
              "      <th>6</th>\n",
              "      <td>6</td>\n",
              "      <td>2015-11-27</td>\n",
              "      <td>2088.820068</td>\n",
              "      <td>2093.290039</td>\n",
              "      <td>2084.129883</td>\n",
              "      <td>2090.110107</td>\n",
              "      <td>1466840000</td>\n",
              "      <td>2090.110107</td>\n",
              "    </tr>\n",
              "    <tr>\n",
              "      <th>7</th>\n",
              "      <td>7</td>\n",
              "      <td>2015-11-25</td>\n",
              "      <td>2089.300049</td>\n",
              "      <td>2093.000000</td>\n",
              "      <td>2086.300049</td>\n",
              "      <td>2088.870117</td>\n",
              "      <td>2852940000</td>\n",
              "      <td>2088.870117</td>\n",
              "    </tr>\n",
              "    <tr>\n",
              "      <th>8</th>\n",
              "      <td>8</td>\n",
              "      <td>2015-11-24</td>\n",
              "      <td>2084.419922</td>\n",
              "      <td>2094.120117</td>\n",
              "      <td>2070.290039</td>\n",
              "      <td>2089.139893</td>\n",
              "      <td>3884930000</td>\n",
              "      <td>2089.139893</td>\n",
              "    </tr>\n",
              "    <tr>\n",
              "      <th>9</th>\n",
              "      <td>9</td>\n",
              "      <td>2015-11-23</td>\n",
              "      <td>2089.409912</td>\n",
              "      <td>2095.610107</td>\n",
              "      <td>2081.389893</td>\n",
              "      <td>2086.590088</td>\n",
              "      <td>3587980000</td>\n",
              "      <td>2086.590088</td>\n",
              "    </tr>\n",
              "  </tbody>\n",
              "</table>\n",
              "</div>\n",
              "      <button class=\"colab-df-convert\" onclick=\"convertToInteractive('df-3bdb9fdc-2158-409f-ab59-681da56318f4')\"\n",
              "              title=\"Convert this dataframe to an interactive table.\"\n",
              "              style=\"display:none;\">\n",
              "        \n",
              "  <svg xmlns=\"http://www.w3.org/2000/svg\" height=\"24px\"viewBox=\"0 0 24 24\"\n",
              "       width=\"24px\">\n",
              "    <path d=\"M0 0h24v24H0V0z\" fill=\"none\"/>\n",
              "    <path d=\"M18.56 5.44l.94 2.06.94-2.06 2.06-.94-2.06-.94-.94-2.06-.94 2.06-2.06.94zm-11 1L8.5 8.5l.94-2.06 2.06-.94-2.06-.94L8.5 2.5l-.94 2.06-2.06.94zm10 10l.94 2.06.94-2.06 2.06-.94-2.06-.94-.94-2.06-.94 2.06-2.06.94z\"/><path d=\"M17.41 7.96l-1.37-1.37c-.4-.4-.92-.59-1.43-.59-.52 0-1.04.2-1.43.59L10.3 9.45l-7.72 7.72c-.78.78-.78 2.05 0 2.83L4 21.41c.39.39.9.59 1.41.59.51 0 1.02-.2 1.41-.59l7.78-7.78 2.81-2.81c.8-.78.8-2.07 0-2.86zM5.41 20L4 18.59l7.72-7.72 1.47 1.35L5.41 20z\"/>\n",
              "  </svg>\n",
              "      </button>\n",
              "      \n",
              "  <style>\n",
              "    .colab-df-container {\n",
              "      display:flex;\n",
              "      flex-wrap:wrap;\n",
              "      gap: 12px;\n",
              "    }\n",
              "\n",
              "    .colab-df-convert {\n",
              "      background-color: #E8F0FE;\n",
              "      border: none;\n",
              "      border-radius: 50%;\n",
              "      cursor: pointer;\n",
              "      display: none;\n",
              "      fill: #1967D2;\n",
              "      height: 32px;\n",
              "      padding: 0 0 0 0;\n",
              "      width: 32px;\n",
              "    }\n",
              "\n",
              "    .colab-df-convert:hover {\n",
              "      background-color: #E2EBFA;\n",
              "      box-shadow: 0px 1px 2px rgba(60, 64, 67, 0.3), 0px 1px 3px 1px rgba(60, 64, 67, 0.15);\n",
              "      fill: #174EA6;\n",
              "    }\n",
              "\n",
              "    [theme=dark] .colab-df-convert {\n",
              "      background-color: #3B4455;\n",
              "      fill: #D2E3FC;\n",
              "    }\n",
              "\n",
              "    [theme=dark] .colab-df-convert:hover {\n",
              "      background-color: #434B5C;\n",
              "      box-shadow: 0px 1px 3px 1px rgba(0, 0, 0, 0.15);\n",
              "      filter: drop-shadow(0px 1px 2px rgba(0, 0, 0, 0.3));\n",
              "      fill: #FFFFFF;\n",
              "    }\n",
              "  </style>\n",
              "\n",
              "      <script>\n",
              "        const buttonEl =\n",
              "          document.querySelector('#df-3bdb9fdc-2158-409f-ab59-681da56318f4 button.colab-df-convert');\n",
              "        buttonEl.style.display =\n",
              "          google.colab.kernel.accessAllowed ? 'block' : 'none';\n",
              "\n",
              "        async function convertToInteractive(key) {\n",
              "          const element = document.querySelector('#df-3bdb9fdc-2158-409f-ab59-681da56318f4');\n",
              "          const dataTable =\n",
              "            await google.colab.kernel.invokeFunction('convertToInteractive',\n",
              "                                                     [key], {});\n",
              "          if (!dataTable) return;\n",
              "\n",
              "          const docLinkHtml = 'Like what you see? Visit the ' +\n",
              "            '<a target=\"_blank\" href=https://colab.research.google.com/notebooks/data_table.ipynb>data table notebook</a>'\n",
              "            + ' to learn more about interactive tables.';\n",
              "          element.innerHTML = '';\n",
              "          dataTable['output_type'] = 'display_data';\n",
              "          await google.colab.output.renderOutput(dataTable, element);\n",
              "          const docLink = document.createElement('div');\n",
              "          docLink.innerHTML = docLinkHtml;\n",
              "          element.appendChild(docLink);\n",
              "        }\n",
              "      </script>\n",
              "    </div>\n",
              "  </div>\n",
              "  "
            ]
          },
          "metadata": {},
          "execution_count": 43
        }
      ]
    },
    {
      "cell_type": "code",
      "source": [
        "SPY_data.set_index('Date',inplace=True)\n",
        "# Reverse the order of the dataframe in order to have oldest values at top\n",
        "SPY_data.sort_values('Date',ascending=True)\n"
      ],
      "metadata": {
        "colab": {
          "base_uri": "https://localhost:8080/",
          "height": 693
        },
        "id": "OJ0eIMK7byzt",
        "outputId": "f03214b8-3106-4b3f-9cff-0347191e69fc"
      },
      "execution_count": null,
      "outputs": [
        {
          "output_type": "execute_result",
          "data": {
            "text/plain": [
              "            Srno         Open         High          Low        Close  \\\n",
              "Date                                                                   \n",
              "2010-01-02  1473  1073.890015  1089.380005  1073.890015  1089.189941   \n",
              "2010-01-03  1454  1105.359985  1116.109985  1105.359985  1115.709961   \n",
              "2010-01-04  1431  1171.229980  1181.430054  1170.689941  1178.099976   \n",
              "2010-01-06  1390  1087.300049  1094.770020  1069.890015  1070.709961   \n",
              "2010-01-07  1368  1031.099976  1033.579956  1010.909973  1027.369995   \n",
              "...          ...          ...          ...          ...          ...   \n",
              "2015-12-05   145  2102.870117  2105.060059  2085.570068  2099.120117   \n",
              "2015-12-06   123  2107.429932  2107.429932  2091.330078  2094.110107   \n",
              "2015-12-08    81  2081.100098  2089.060059  2052.090088  2086.050049   \n",
              "2015-12-10    39  2015.650024  2018.660034  2010.550049  2017.459961   \n",
              "2015-12-11    16  2072.290039  2072.290039  2045.660034  2045.969971   \n",
              "\n",
              "                Volume    Adj Close  \n",
              "Date                                 \n",
              "2010-01-02  4077610000  1089.189941  \n",
              "2010-01-03  3847640000  1115.709961  \n",
              "2010-01-04  4006870000  1178.099976  \n",
              "2010-01-06  5271480000  1070.709961  \n",
              "2010-01-07  6435770000  1027.369995  \n",
              "...                ...          ...  \n",
              "2015-12-05  3139520000  2099.120117  \n",
              "2015-12-06  2719400000  2094.110107  \n",
              "2015-12-08  4269130000  2086.050049  \n",
              "2015-12-10  2893250000  2017.459961  \n",
              "2015-12-11  4016370000  2045.969971  \n",
              "\n",
              "[1493 rows x 7 columns]"
            ],
            "text/html": [
              "\n",
              "  <div id=\"df-2b485a06-3fe7-4f34-988e-e2f89ba9a120\">\n",
              "    <div class=\"colab-df-container\">\n",
              "      <div>\n",
              "<style scoped>\n",
              "    .dataframe tbody tr th:only-of-type {\n",
              "        vertical-align: middle;\n",
              "    }\n",
              "\n",
              "    .dataframe tbody tr th {\n",
              "        vertical-align: top;\n",
              "    }\n",
              "\n",
              "    .dataframe thead th {\n",
              "        text-align: right;\n",
              "    }\n",
              "</style>\n",
              "<table border=\"1\" class=\"dataframe\">\n",
              "  <thead>\n",
              "    <tr style=\"text-align: right;\">\n",
              "      <th></th>\n",
              "      <th>Srno</th>\n",
              "      <th>Open</th>\n",
              "      <th>High</th>\n",
              "      <th>Low</th>\n",
              "      <th>Close</th>\n",
              "      <th>Volume</th>\n",
              "      <th>Adj Close</th>\n",
              "    </tr>\n",
              "    <tr>\n",
              "      <th>Date</th>\n",
              "      <th></th>\n",
              "      <th></th>\n",
              "      <th></th>\n",
              "      <th></th>\n",
              "      <th></th>\n",
              "      <th></th>\n",
              "      <th></th>\n",
              "    </tr>\n",
              "  </thead>\n",
              "  <tbody>\n",
              "    <tr>\n",
              "      <th>2010-01-02</th>\n",
              "      <td>1473</td>\n",
              "      <td>1073.890015</td>\n",
              "      <td>1089.380005</td>\n",
              "      <td>1073.890015</td>\n",
              "      <td>1089.189941</td>\n",
              "      <td>4077610000</td>\n",
              "      <td>1089.189941</td>\n",
              "    </tr>\n",
              "    <tr>\n",
              "      <th>2010-01-03</th>\n",
              "      <td>1454</td>\n",
              "      <td>1105.359985</td>\n",
              "      <td>1116.109985</td>\n",
              "      <td>1105.359985</td>\n",
              "      <td>1115.709961</td>\n",
              "      <td>3847640000</td>\n",
              "      <td>1115.709961</td>\n",
              "    </tr>\n",
              "    <tr>\n",
              "      <th>2010-01-04</th>\n",
              "      <td>1431</td>\n",
              "      <td>1171.229980</td>\n",
              "      <td>1181.430054</td>\n",
              "      <td>1170.689941</td>\n",
              "      <td>1178.099976</td>\n",
              "      <td>4006870000</td>\n",
              "      <td>1178.099976</td>\n",
              "    </tr>\n",
              "    <tr>\n",
              "      <th>2010-01-06</th>\n",
              "      <td>1390</td>\n",
              "      <td>1087.300049</td>\n",
              "      <td>1094.770020</td>\n",
              "      <td>1069.890015</td>\n",
              "      <td>1070.709961</td>\n",
              "      <td>5271480000</td>\n",
              "      <td>1070.709961</td>\n",
              "    </tr>\n",
              "    <tr>\n",
              "      <th>2010-01-07</th>\n",
              "      <td>1368</td>\n",
              "      <td>1031.099976</td>\n",
              "      <td>1033.579956</td>\n",
              "      <td>1010.909973</td>\n",
              "      <td>1027.369995</td>\n",
              "      <td>6435770000</td>\n",
              "      <td>1027.369995</td>\n",
              "    </tr>\n",
              "    <tr>\n",
              "      <th>...</th>\n",
              "      <td>...</td>\n",
              "      <td>...</td>\n",
              "      <td>...</td>\n",
              "      <td>...</td>\n",
              "      <td>...</td>\n",
              "      <td>...</td>\n",
              "      <td>...</td>\n",
              "    </tr>\n",
              "    <tr>\n",
              "      <th>2015-12-05</th>\n",
              "      <td>145</td>\n",
              "      <td>2102.870117</td>\n",
              "      <td>2105.060059</td>\n",
              "      <td>2085.570068</td>\n",
              "      <td>2099.120117</td>\n",
              "      <td>3139520000</td>\n",
              "      <td>2099.120117</td>\n",
              "    </tr>\n",
              "    <tr>\n",
              "      <th>2015-12-06</th>\n",
              "      <td>123</td>\n",
              "      <td>2107.429932</td>\n",
              "      <td>2107.429932</td>\n",
              "      <td>2091.330078</td>\n",
              "      <td>2094.110107</td>\n",
              "      <td>2719400000</td>\n",
              "      <td>2094.110107</td>\n",
              "    </tr>\n",
              "    <tr>\n",
              "      <th>2015-12-08</th>\n",
              "      <td>81</td>\n",
              "      <td>2081.100098</td>\n",
              "      <td>2089.060059</td>\n",
              "      <td>2052.090088</td>\n",
              "      <td>2086.050049</td>\n",
              "      <td>4269130000</td>\n",
              "      <td>2086.050049</td>\n",
              "    </tr>\n",
              "    <tr>\n",
              "      <th>2015-12-10</th>\n",
              "      <td>39</td>\n",
              "      <td>2015.650024</td>\n",
              "      <td>2018.660034</td>\n",
              "      <td>2010.550049</td>\n",
              "      <td>2017.459961</td>\n",
              "      <td>2893250000</td>\n",
              "      <td>2017.459961</td>\n",
              "    </tr>\n",
              "    <tr>\n",
              "      <th>2015-12-11</th>\n",
              "      <td>16</td>\n",
              "      <td>2072.290039</td>\n",
              "      <td>2072.290039</td>\n",
              "      <td>2045.660034</td>\n",
              "      <td>2045.969971</td>\n",
              "      <td>4016370000</td>\n",
              "      <td>2045.969971</td>\n",
              "    </tr>\n",
              "  </tbody>\n",
              "</table>\n",
              "<p>1493 rows × 7 columns</p>\n",
              "</div>\n",
              "      <button class=\"colab-df-convert\" onclick=\"convertToInteractive('df-2b485a06-3fe7-4f34-988e-e2f89ba9a120')\"\n",
              "              title=\"Convert this dataframe to an interactive table.\"\n",
              "              style=\"display:none;\">\n",
              "        \n",
              "  <svg xmlns=\"http://www.w3.org/2000/svg\" height=\"24px\"viewBox=\"0 0 24 24\"\n",
              "       width=\"24px\">\n",
              "    <path d=\"M0 0h24v24H0V0z\" fill=\"none\"/>\n",
              "    <path d=\"M18.56 5.44l.94 2.06.94-2.06 2.06-.94-2.06-.94-.94-2.06-.94 2.06-2.06.94zm-11 1L8.5 8.5l.94-2.06 2.06-.94-2.06-.94L8.5 2.5l-.94 2.06-2.06.94zm10 10l.94 2.06.94-2.06 2.06-.94-2.06-.94-.94-2.06-.94 2.06-2.06.94z\"/><path d=\"M17.41 7.96l-1.37-1.37c-.4-.4-.92-.59-1.43-.59-.52 0-1.04.2-1.43.59L10.3 9.45l-7.72 7.72c-.78.78-.78 2.05 0 2.83L4 21.41c.39.39.9.59 1.41.59.51 0 1.02-.2 1.41-.59l7.78-7.78 2.81-2.81c.8-.78.8-2.07 0-2.86zM5.41 20L4 18.59l7.72-7.72 1.47 1.35L5.41 20z\"/>\n",
              "  </svg>\n",
              "      </button>\n",
              "      \n",
              "  <style>\n",
              "    .colab-df-container {\n",
              "      display:flex;\n",
              "      flex-wrap:wrap;\n",
              "      gap: 12px;\n",
              "    }\n",
              "\n",
              "    .colab-df-convert {\n",
              "      background-color: #E8F0FE;\n",
              "      border: none;\n",
              "      border-radius: 50%;\n",
              "      cursor: pointer;\n",
              "      display: none;\n",
              "      fill: #1967D2;\n",
              "      height: 32px;\n",
              "      padding: 0 0 0 0;\n",
              "      width: 32px;\n",
              "    }\n",
              "\n",
              "    .colab-df-convert:hover {\n",
              "      background-color: #E2EBFA;\n",
              "      box-shadow: 0px 1px 2px rgba(60, 64, 67, 0.3), 0px 1px 3px 1px rgba(60, 64, 67, 0.15);\n",
              "      fill: #174EA6;\n",
              "    }\n",
              "\n",
              "    [theme=dark] .colab-df-convert {\n",
              "      background-color: #3B4455;\n",
              "      fill: #D2E3FC;\n",
              "    }\n",
              "\n",
              "    [theme=dark] .colab-df-convert:hover {\n",
              "      background-color: #434B5C;\n",
              "      box-shadow: 0px 1px 3px 1px rgba(0, 0, 0, 0.15);\n",
              "      filter: drop-shadow(0px 1px 2px rgba(0, 0, 0, 0.3));\n",
              "      fill: #FFFFFF;\n",
              "    }\n",
              "  </style>\n",
              "\n",
              "      <script>\n",
              "        const buttonEl =\n",
              "          document.querySelector('#df-2b485a06-3fe7-4f34-988e-e2f89ba9a120 button.colab-df-convert');\n",
              "        buttonEl.style.display =\n",
              "          google.colab.kernel.accessAllowed ? 'block' : 'none';\n",
              "\n",
              "        async function convertToInteractive(key) {\n",
              "          const element = document.querySelector('#df-2b485a06-3fe7-4f34-988e-e2f89ba9a120');\n",
              "          const dataTable =\n",
              "            await google.colab.kernel.invokeFunction('convertToInteractive',\n",
              "                                                     [key], {});\n",
              "          if (!dataTable) return;\n",
              "\n",
              "          const docLinkHtml = 'Like what you see? Visit the ' +\n",
              "            '<a target=\"_blank\" href=https://colab.research.google.com/notebooks/data_table.ipynb>data table notebook</a>'\n",
              "            + ' to learn more about interactive tables.';\n",
              "          element.innerHTML = '';\n",
              "          dataTable['output_type'] = 'display_data';\n",
              "          await google.colab.output.renderOutput(dataTable, element);\n",
              "          const docLink = document.createElement('div');\n",
              "          docLink.innerHTML = docLinkHtml;\n",
              "          element.appendChild(docLink);\n",
              "        }\n",
              "      </script>\n",
              "    </div>\n",
              "  </div>\n",
              "  "
            ]
          },
          "metadata": {},
          "execution_count": 44
        }
      ]
    },
    {
      "cell_type": "code",
      "source": [
        "SPY_data['High-Low_pct'] = (SPY_data['High'] - SPY_data['Low']).pct_change()\n",
        "SPY_data['ewm_5'] = SPY_data[\"Close\"].ewm(span=5).mean().shift(periods=1)\n",
        "SPY_data['price_std_5'] = SPY_data[\"Close\"].rolling(center=False,window= 30).std().shift(periods=1)\n",
        "SPY_data['volume Change'] = SPY_data['Volume'].pct_change()\n",
        "SPY_data['volume_avg_5'] = SPY_data[\"Volume\"].rolling(center=False,window=5).mean().shift(periods=1)\n",
        "SPY_data['volume Close'] = SPY_data[\"Volume\"].rolling(center=False,window=5).std().shift(periods=1)\n"
      ],
      "metadata": {
        "id": "3jhnXq4ocAuS"
      },
      "execution_count": null,
      "outputs": []
    },
    {
      "cell_type": "code",
      "source": [
        "jet= plt.get_cmap('jet')\n",
        "colors = iter(jet(np.linspace(0,1,10)))\n",
        " \n",
        "def correlation(df,variables, n_rows, n_cols):\n",
        "    fig = plt.figure(figsize=(8,6))\n",
        "    #fig = plt.figure(figsize=(14,9))\n",
        "    for i, var in enumerate(variables):\n",
        "        ax = fig.add_subplot(n_rows,n_cols,i+1)\n",
        "        asset = df.loc[:,var]\n",
        "        ax.scatter(df[\"Adj Close\"], asset, c = next(colors))\n",
        "        ax.set_xlabel(\"Adj Close\")\n",
        "        ax.set_ylabel(\"{}\".format(var))\n",
        "        ax.set_title(var +\" vs price\")\n",
        "    fig.tight_layout() \n",
        "    plt.show()\n"
      ],
      "metadata": {
        "id": "-MaCiZGTcQ5j"
      },
      "execution_count": null,
      "outputs": []
    },
    {
      "cell_type": "code",
      "source": [
        "variables = SPY_data.columns[-6:]  \n",
        "correlation(SPY_data,variables,3,3)\n"
      ],
      "metadata": {
        "colab": {
          "base_uri": "https://localhost:8080/",
          "height": 446
        },
        "id": "35pkpb2ZdnSo",
        "outputId": "9a02be09-7481-48fa-dc2c-144f8c5c7086"
      },
      "execution_count": null,
      "outputs": [
        {
          "output_type": "stream",
          "name": "stderr",
          "text": [
            "WARNING:matplotlib.axes._axes:*c* argument looks like a single numeric RGB or RGBA sequence, which should be avoided as value-mapping will have precedence in case its length matches with *x* & *y*.  Please use the *color* keyword-argument or provide a 2-D array with a single row if you intend to specify the same RGB or RGBA value for all points.\n",
            "WARNING:matplotlib.axes._axes:*c* argument looks like a single numeric RGB or RGBA sequence, which should be avoided as value-mapping will have precedence in case its length matches with *x* & *y*.  Please use the *color* keyword-argument or provide a 2-D array with a single row if you intend to specify the same RGB or RGBA value for all points.\n",
            "WARNING:matplotlib.axes._axes:*c* argument looks like a single numeric RGB or RGBA sequence, which should be avoided as value-mapping will have precedence in case its length matches with *x* & *y*.  Please use the *color* keyword-argument or provide a 2-D array with a single row if you intend to specify the same RGB or RGBA value for all points.\n",
            "WARNING:matplotlib.axes._axes:*c* argument looks like a single numeric RGB or RGBA sequence, which should be avoided as value-mapping will have precedence in case its length matches with *x* & *y*.  Please use the *color* keyword-argument or provide a 2-D array with a single row if you intend to specify the same RGB or RGBA value for all points.\n",
            "WARNING:matplotlib.axes._axes:*c* argument looks like a single numeric RGB or RGBA sequence, which should be avoided as value-mapping will have precedence in case its length matches with *x* & *y*.  Please use the *color* keyword-argument or provide a 2-D array with a single row if you intend to specify the same RGB or RGBA value for all points.\n",
            "WARNING:matplotlib.axes._axes:*c* argument looks like a single numeric RGB or RGBA sequence, which should be avoided as value-mapping will have precedence in case its length matches with *x* & *y*.  Please use the *color* keyword-argument or provide a 2-D array with a single row if you intend to specify the same RGB or RGBA value for all points.\n"
          ]
        },
        {
          "output_type": "display_data",
          "data": {
            "text/plain": [
              "<Figure size 576x432 with 6 Axes>"
            ],
            "image/png": "[encoded data removed]"
          },
          "metadata": {
            "needs_background": "light"
          }
        }
      ]
    },
    {
      "cell_type": "code",
      "source": [
        "SPY_data.corr()['Adj Close'].loc[variables]"
      ],
      "metadata": {
        "colab": {
          "base_uri": "https://localhost:8080/"
        },
        "id": "fJ7OtnRzdxh0",
        "outputId": "26f35cf9-4c88-4d30-d206-88f41f79391e"
      },
      "execution_count": null,
      "outputs": [
        {
          "output_type": "execute_result",
          "data": {
            "text/plain": [
              "High-Low_pct    -0.010328\n",
              "ewm_5            0.998513\n",
              "price_std_5      0.100524\n",
              "volume Change   -0.005446\n",
              "volume_avg_5    -0.485734\n",
              "volume Close    -0.241898\n",
              "Name: Adj Close, dtype: float64"
            ]
          },
          "metadata": {},
          "execution_count": 48
        }
      ]
    },
    {
      "cell_type": "code",
      "source": [
        "SPY_data.isnull().sum().loc[variables]"
      ],
      "metadata": {
        "colab": {
          "base_uri": "https://localhost:8080/"
        },
        "id": "TEMtJqOXd-j-",
        "outputId": "3394cd01-f12b-4455-e21e-a3f8068f694d"
      },
      "execution_count": null,
      "outputs": [
        {
          "output_type": "execute_result",
          "data": {
            "text/plain": [
              "High-Low_pct      1\n",
              "ewm_5             1\n",
              "price_std_5      30\n",
              "volume Change     1\n",
              "volume_avg_5      5\n",
              "volume Close      5\n",
              "dtype: int64"
            ]
          },
          "metadata": {},
          "execution_count": 49
        }
      ]
    },
    {
      "cell_type": "code",
      "source": [
        "# To train the model is necessary to drop any missing value in the dataset.\n",
        "\n",
        "SPY_data = SPY_data.dropna(axis=0)\n",
        "\n",
        "# Generate the train and test sets\n",
        "\n",
        "train = SPY_data[SPY_data.index < datetime(year=2015, month=1, day=1).strftime(\"%d-%m-%Y\")]\n",
        "\n",
        "test = SPY_data[SPY_data.index >= datetime(year=2015, month=1, day=1).strftime(\"%d-%m-%Y\")]\n",
        "dates = test.index\n"
      ],
      "metadata": {
        "id": "m5L2NkJ2eIsn"
      },
      "execution_count": null,
      "outputs": []
    },
    {
      "cell_type": "code",
      "source": [
        "lr = LinearRegression()\n",
        "X_test = test[[\"High-Low_pct\",\"ewm_5\",\"price_std_5\",\"volume_avg_5\",\"volume Change\",\"volume Close\"]]\n",
        "Y_test = test[\"Adj Close\"]\n",
        "lr.fit(X_test,Y_test)\n",
        "\n"
      ],
      "metadata": {
        "colab": {
          "base_uri": "https://localhost:8080/"
        },
        "id": "Viy8ktLiedjg",
        "outputId": "626d8296-ac65-4ae4-b3bd-ece05133ad5b"
      },
      "execution_count": null,
      "outputs": [
        {
          "output_type": "execute_result",
          "data": {
            "text/plain": [
              "LinearRegression()"
            ]
          },
          "metadata": {},
          "execution_count": 51
        }
      ]
    },
    {
      "cell_type": "code",
      "source": [
        "close_predictions = lr.predict(X_test)   \n",
        "mae = sum(abs(close_predictions - test[\"Adj Close\"].values)) / test.shape[0]\n",
        "print(mae)\n"
      ],
      "metadata": {
        "colab": {
          "base_uri": "https://localhost:8080/"
        },
        "id": "Jc3oBVLigSA1",
        "outputId": "8df15263-55f8-4e2d-ed5a-95f526d41410"
      },
      "execution_count": null,
      "outputs": [
        {
          "output_type": "stream",
          "name": "stdout",
          "text": [
            "18.415651465920472\n"
          ]
        }
      ]
    },
    {
      "cell_type": "code",
      "source": [
        "df = pd.DataFrame({'Date':dates,'Actual': Y_test, 'Predicted': close_predictions})\n",
        "df1 = df.tail(25)\n",
        "# set the date with string format for plotting\n",
        "df1['Date'] = df1['Date'].dt.strftime('%Y-%m-%d')\n",
        "df1.set_index('Date',inplace=True)\n",
        "error = df1['Actual'] - df1['Predicted']\n"
      ],
      "metadata": {
        "colab": {
          "base_uri": "https://localhost:8080/"
        },
        "id": "m9zGxkzggXNC",
        "outputId": "0074a56c-6ec1-4d5d-a02d-18b9809cd079"
      },
      "execution_count": null,
      "outputs": [
        {
          "output_type": "stream",
          "name": "stderr",
          "text": [
            "/usr/local/lib/python3.7/dist-packages/ipykernel_launcher.py:4: SettingWithCopyWarning: \n",
            "A value is trying to be set on a copy of a slice from a DataFrame.\n",
            "Try using .loc[row_indexer,col_indexer] = value instead\n",
            "\n",
            "See the caveats in the documentation: https://pandas.pydata.org/pandas-docs/stable/user_guide/indexing.html#returning-a-view-versus-a-copy\n",
            "  after removing the cwd from sys.path.\n"
          ]
        }
      ]
    },
    {
      "cell_type": "code",
      "source": [
        "error.plot(kind='bar',figsize=(8,6))\n",
        "plt.grid(which='major', linestyle='-', linewidth='0.5', color='green')\n",
        "plt.grid(which='minor', linestyle=':', linewidth='0.5', color='black')\n",
        "plt.xticks(rotation=45)\n",
        "plt.show()\n"
      ],
      "metadata": {
        "colab": {
          "base_uri": "https://localhost:8080/",
          "height": 426
        },
        "id": "VTmufw8sgaHH",
        "outputId": "547b1d4d-354b-48f4-a93d-71f01d56dac8"
      },
      "execution_count": null,
      "outputs": [
        {
          "output_type": "display_data",
          "data": {
            "text/plain": [
              "<Figure size 576x432 with 1 Axes>"
            ],
            "image/png": "[encoded data removed]"
          },
          "metadata": {
            "needs_background": "light"
          }
        }
      ]
    }
  ]
}